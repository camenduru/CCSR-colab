{
  "cells": [
    {
      "cell_type": "markdown",
      "metadata": {
        "id": "view-in-github"
      },
      "source": [
        "[![Open In Colab](https://colab.research.google.com/assets/colab-badge.svg)](https://colab.research.google.com/github/camenduru/CCSR-colab/blob/main/CCSR_gradio_colab.ipynb)"
      ]
    },
    {
      "cell_type": "code",
      "execution_count": null,
      "metadata": {
        "id": "VjYy0F2gZIPR"
      },
      "outputs": [],
      "source": [
        "%cd /content\n",
        "!git clone -b dev https://github.com/camenduru/CCSR\n",
        "%cd /content/CCSR\n",
        "\n",
        "!apt -y install -qq aria2\n",
        "!aria2c --console-log-level=error -c -x 16 -s 16 -k 1M https://huggingface.co/camenduru/CCSR/resolve/main/real-world_ccsr.ckpt -d /content/CCSR/weights -o real-world_ccsr.ckpt\n",
        "\n",
        "!pip install -q einops pytorch-lightning omegaconf open-clip-torch gradio==3.50.2\n",
        "!pip install -q https://download.pytorch.org/whl/cu121/xformers-0.0.22.post7-cp310-cp310-manylinux2014_x86_64.whl\n",
        "!pip install -q -e git+https://github.com/CompVis/taming-transformers.git@master#egg=taming-transformers\n",
        "\n",
        "!rm -rf /content/CCSR/preset/test_datasets/19.jpg\n",
        "!mv /content/CCSR/preset/test_datasets/49.jpg /content/CCSR/preset/test_datasets/input.jpg\n",
        "\n",
        "import gradio as gr\n",
        "import subprocess\n",
        "\n",
        "def generate(image, prompt, seed):\n",
        "    print(image, prompt, seed)\n",
        "    command = f\"python inference_ccsr.py --input preset/test_datasets --config configs/model/ccsr_stage2.yaml --ckpt weights/real-world_ccsr.ckpt --steps 45 --sr_scale 4 --t_max 0.6667 --t_min 0.3333 --color_fix_type adain --output experiments/test --device cuda --repeat_times 1\"\n",
        "    try:\n",
        "        result = subprocess.run(command, shell=True, check=True, stdout=subprocess.PIPE, stderr=subprocess.PIPE, text=True)\n",
        "        print(\"Output:\", result.stdout)\n",
        "        output_path = '/content/CCSR/experiments/test/input.jpg'\n",
        "        return output_path\n",
        "    except subprocess.CalledProcessError as e:\n",
        "        print(\"Error:\", e.stderr)\n",
        "        return None\n",
        "\n",
        "with gr.Blocks() as demo:\n",
        "    with gr.Row():\n",
        "      with gr.Column():\n",
        "          image = gr.Image(type='filepath')\n",
        "          textbox = gr.Textbox(show_label=False, value=\"a person facing the camera, making a hand gesture, indoor\")\n",
        "          seed = gr.Slider(minimum=0, maximum=1000000, value=643534)\n",
        "          button = gr.Button()\n",
        "      output_image = gr.Image(show_label=False, type=\"filepath\", interactive=False, height=512, width=512)\n",
        "    button.click(fn=generate, inputs=[image, textbox, seed], outputs=[output_image])\n",
        "\n",
        "demo.queue().launch(inline=False, share=True, debug=True)"
      ]
    }
  ],
  "metadata": {
    "accelerator": "GPU",
    "colab": {
      "gpuType": "T4",
      "provenance": []
    },
    "kernelspec": {
      "display_name": "Python 3",
      "name": "python3"
    },
    "language_info": {
      "name": "python"
    }
  },
  "nbformat": 4,
  "nbformat_minor": 0
}
