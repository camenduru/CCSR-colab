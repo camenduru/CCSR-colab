{
  "cells": [
    {
      "cell_type": "markdown",
      "metadata": {
        "id": "view-in-github"
      },
      "source": [
        "[![Open In Colab](https://colab.research.google.com/assets/colab-badge.svg)](https://colab.research.google.com/github/camenduru/CCSR-colab/blob/main/CCSR_colab.ipynb)"
      ]
    },
    {
      "cell_type": "code",
      "execution_count": null,
      "metadata": {
        "id": "VjYy0F2gZIPR"
      },
      "outputs": [],
      "source": [
        "%cd /content\n",
        "!git clone -b dev https://github.com/camenduru/CCSR\n",
        "%cd /content/CCSR\n",
        "\n",
        "!apt -y install -qq aria2\n",
        "!aria2c --console-log-level=error -c -x 16 -s 16 -k 1M https://huggingface.co/camenduru/CCSR/resolve/main/real-world_ccsr.ckpt -d /content/CCSR/weights -o real-world_ccsr.ckpt\n",
        "\n",
        "!pip install -q einops pytorch-lightning omegaconf open-clip-torch\n",
        "!pip install -q https://download.pytorch.org/whl/cu121/xformers-0.0.22.post7-cp310-cp310-manylinux2014_x86_64.whl\n",
        "!pip install -q -e git+https://github.com/CompVis/taming-transformers.git@master#egg=taming-transformers"
      ]
    },
    {
      "cell_type": "code",
      "execution_count": null,
      "metadata": {},
      "outputs": [],
      "source": [
        "!python inference_ccsr.py \\\n",
        "  --input preset/test_datasets \\\n",
        "  --config configs/model/ccsr_stage2.yaml \\\n",
        "  --ckpt weights/real-world_ccsr.ckpt \\\n",
        "  --steps 45 \\\n",
        "  --sr_scale 4 \\\n",
        "  --t_max 0.6667 \\\n",
        "  --t_min 0.3333 \\\n",
        "  --color_fix_type adain \\\n",
        "  --output experiments/test \\\n",
        "  --device cuda \\\n",
        "  --repeat_times 1 "
      ]
    }
  ],
  "metadata": {
    "accelerator": "GPU",
    "colab": {
      "gpuType": "T4",
      "provenance": []
    },
    "kernelspec": {
      "display_name": "Python 3",
      "name": "python3"
    },
    "language_info": {
      "name": "python"
    }
  },
  "nbformat": 4,
  "nbformat_minor": 0
}
